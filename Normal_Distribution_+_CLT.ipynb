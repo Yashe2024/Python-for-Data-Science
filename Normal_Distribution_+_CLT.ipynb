{
  "nbformat": 4,
  "nbformat_minor": 0,
  "metadata": {
    "colab": {
      "provenance": []
    },
    "kernelspec": {
      "name": "python3",
      "display_name": "Python 3"
    },
    "language_info": {
      "name": "python"
    }
  },
  "cells": [
    {
      "cell_type": "code",
      "metadata": {
        "id": "KwLajZJ9uYka"
      },
      "source": [
        "import pandas as pd\n",
        "import numpy as np\n",
        "import seaborn as sns"
      ],
      "execution_count": 1,
      "outputs": []
    },
    {
      "cell_type": "markdown",
      "metadata": {
        "id": "rFQMI8YxxJAn"
      },
      "source": [
        "A p-value less than 0.05 (typically ≤ 0.05) is statistically significant. It indicates strong evidence against the null hypothesis, as there is less than a 5% probability the null is correct (and the results are random). Therefore, we reject the null hypothesis, and accept the alternative hypothesis."
      ]
    },
    {
      "cell_type": "code",
      "metadata": {
        "id": "db8uFwKYuc4h"
      },
      "source": [
        "list1 = [26, 33, 65, 28, 34, 55, 25, 44, 50, 36, 26, 37, 43, 62, 35, 38, 45, 32, 28, 34]"
      ],
      "execution_count": 2,
      "outputs": []
    },
    {
      "cell_type": "code",
      "metadata": {
        "id": "uRM7-S3eufry"
      },
      "source": [
        "df = pd.DataFrame(list1)"
      ],
      "execution_count": 3,
      "outputs": []
    },
    {
      "cell_type": "code",
      "metadata": {
        "colab": {
          "base_uri": "https://localhost:8080/",
          "height": 645
        },
        "id": "jjfesA1YuhXJ",
        "outputId": "30ec833e-fc75-4866-d2a1-88fd11fb63f5"
      },
      "source": [
        "sns.distplot(df)"
      ],
      "execution_count": 4,
      "outputs": [
        {
          "output_type": "stream",
          "name": "stderr",
          "text": [
            "<ipython-input-4-527cbf673b18>:1: UserWarning: \n",
            "\n",
            "`distplot` is a deprecated function and will be removed in seaborn v0.14.0.\n",
            "\n",
            "Please adapt your code to use either `displot` (a figure-level function with\n",
            "similar flexibility) or `histplot` (an axes-level function for histograms).\n",
            "\n",
            "For a guide to updating your code to use the new functions, please see\n",
            "https://gist.github.com/mwaskom/de44147ed2974457ad6372750bbe5751\n",
            "\n",
            "  sns.distplot(df)\n"
          ]
        },
        {
          "output_type": "execute_result",
          "data": {
            "text/plain": [
              "<Axes: ylabel='Density'>"
            ]
          },
          "metadata": {},
          "execution_count": 4
        },
        {
          "output_type": "display_data",
          "data": {
            "text/plain": [
              "<Figure size 640x480 with 1 Axes>"
            ],
            "image/png": "[encoded data removed]"
          },
          "metadata": {}
        }
      ]
    },
    {
      "cell_type": "code",
      "metadata": {
        "colab": {
          "base_uri": "https://localhost:8080/"
        },
        "id": "93uPP_Td4RLa",
        "outputId": "e34aff6a-6c8d-4327-e3ed-99fbee754358"
      },
      "source": [
        "df.skew()"
      ],
      "execution_count": 5,
      "outputs": [
        {
          "output_type": "execute_result",
          "data": {
            "text/plain": [
              "0    0.96583\n",
              "dtype: float64"
            ]
          },
          "metadata": {},
          "execution_count": 5
        }
      ]
    },
    {
      "cell_type": "code",
      "metadata": {
        "id": "a6fmZw7kukQ4"
      },
      "source": [
        "from scipy import stats"
      ],
      "execution_count": 6,
      "outputs": []
    },
    {
      "cell_type": "code",
      "metadata": {
        "id": "cCzxVg5tuwk5"
      },
      "source": [
        "k2, p = stats.normaltest(df)"
      ],
      "execution_count": 7,
      "outputs": []
    },
    {
      "cell_type": "code",
      "metadata": {
        "colab": {
          "base_uri": "https://localhost:8080/"
        },
        "id": "36vny8q8uzGC",
        "outputId": "a016aa25-497d-4d36-ca0a-6990ca219b35"
      },
      "source": [
        "p"
      ],
      "execution_count": 8,
      "outputs": [
        {
          "output_type": "execute_result",
          "data": {
            "text/plain": [
              "array([0.15717757])"
            ]
          },
          "metadata": {},
          "execution_count": 8
        }
      ]
    },
    {
      "cell_type": "code",
      "metadata": {
        "id": "fr9nKjh6u0XC"
      },
      "source": [
        "alpha = 0.05"
      ],
      "execution_count": 9,
      "outputs": []
    },
    {
      "cell_type": "code",
      "metadata": {
        "colab": {
          "base_uri": "https://localhost:8080/"
        },
        "id": "J7ebQdtbu3Ci",
        "outputId": "904b7262-3f60-4aca-949e-bd76c027d582"
      },
      "source": [
        "#Null hypothesis: the population is normally distributed\n",
        "\n",
        "if p < alpha:\n",
        "  print(\"The null hypothesis can be rejected\")\n",
        "else:\n",
        "  print(\"The null hypothesis can't be rejected\")"
      ],
      "execution_count": 10,
      "outputs": [
        {
          "output_type": "stream",
          "name": "stdout",
          "text": [
            "The null hypothesis can't be rejected\n"
          ]
        }
      ]
    },
    {
      "cell_type": "markdown",
      "source": [
        "In a Scipy normaltest, if the calculated p-value is greater than 0.05, it means that the null hypothesis cannot be rejected. The null hypothesis in this case is that the sample data is drawn from a normal distribution. Therefore, if the p-value is greater than 0.05, it suggests that there is no significant evidence to suggest that the data is not normally distributed. However, it is important to note that a result above 5% does not necessarily mean that the null hypothesis is definitely true."
      ],
      "metadata": {
        "id": "ORhxrZl_vKGc"
      }
    },
    {
      "cell_type": "code",
      "metadata": {
        "id": "VVxFaJDHu6uj"
      },
      "source": [],
      "execution_count": null,
      "outputs": []
    }
  ]
}